{
 "cells": [
  {
   "cell_type": "code",
   "execution_count": 2,
   "metadata": {},
   "outputs": [],
   "source": [
    "import numpy as np\n",
    "import tensorflow as tf\n",
    "import matplotlib.pyplot as plt\n",
    "import pandas as pd\n",
    "import seaborn as sns\n",
    "import os\n",
    "#from IPython.core.pylabtools import figsize\n",
    "from tensorflow import keras\n",
    "from keras import optimizers\n",
    "from keras import Sequential\n",
    "from keras import layers\n",
    "from keras import utils, callbacks\n",
    "from keras.models import Model\n",
    "from keras.applications import *\n",
    "from keras.layers import Flatten, Dense, Dropout, BatchNormalization, Conv2D, Input, MaxPool2D, Permute, GlobalAveragePooling2D, MaxPooling2D\n",
    "from keras.losses import CategoricalCrossentropy\n",
    "from keras.optimizers import Adam\n",
    "from keras.preprocessing.image import ImageDataGenerator\n",
    "from keras.metrics import SparseCategoricalCrossentropy\n",
    "from sklearn.metrics import confusion_matrix, classification_report, ConfusionMatrixDisplay, accuracy_score\n",
    "from time import perf_counter\n",
    "from keras.backend import clear_session"
   ]
  },
  {
   "cell_type": "code",
   "execution_count": null,
   "metadata": {},
   "outputs": [],
   "source": [
    "%pip install split-folders"
   ]
  },
  {
   "cell_type": "code",
   "execution_count": 53,
   "metadata": {},
   "outputs": [],
   "source": [
    "#tuning\n",
    "split_ratio = (0.75,0.15,0.10)\n",
    "img_target_size = (64,64)\n",
    "data_batch_size = 105\n",
    "#cnn_layers = 4\n",
    "#output_classes = 26 #A-Z and nothing,space\n",
    "#learning_rate = 0.0001\n",
    "#epochs = 3"
   ]
  },
  {
   "cell_type": "code",
   "execution_count": 4,
   "metadata": {},
   "outputs": [
    {
     "name": "stderr",
     "output_type": "stream",
     "text": [
      "Copying files: 78026 files [01:58, 657.02 files/s]\n"
     ]
    }
   ],
   "source": [
    "#split dataset into train, val, test\n",
    "import splitfolders\n",
    "splitfolders.ratio(\"./grassknot/\", output=\"./pt_data/\",\n",
    "    seed=42, ratio=split_ratio, group_prefix=None, move=False)"
   ]
  },
  {
   "cell_type": "code",
   "execution_count": 28,
   "metadata": {},
   "outputs": [],
   "source": [
    "from zipfile import ZipFile\n",
    "with ZipFile(\"../massey.zip\",\"r\") as zipObj:\n",
    "    zipObj.extractall()"
   ]
  },
  {
   "cell_type": "code",
   "execution_count": 29,
   "metadata": {},
   "outputs": [
    {
     "name": "stderr",
     "output_type": "stream",
     "text": [
      "Copying files: 1815 files [00:07, 235.93 files/s]\n"
     ]
    }
   ],
   "source": [
    "#split dataset into train, val, test\n",
    "import splitfolders\n",
    "splitfolders.ratio(\"../massey/\", output=\"../tfl_data/\",\n",
    "    seed=42, ratio=(0.70,0.20,0.10), group_prefix=None, move=False)"
   ]
  },
  {
   "cell_type": "code",
   "execution_count": 54,
   "metadata": {},
   "outputs": [
    {
     "name": "stdout",
     "output_type": "stream",
     "text": [
      "Found 1270 images belonging to 26 classes.\n",
      "Found 363 images belonging to 26 classes.\n",
      "Found 182 images belonging to 26 classes.\n"
     ]
    }
   ],
   "source": [
    "gen_aug = ImageDataGenerator(rescale=1./255, horizontal_flip=True, rotation_range=15) \n",
    "gen = ImageDataGenerator(rescale=1./255) \n",
    "\n",
    "train = gen_aug.flow_from_directory(\"../tfl_data/train\",\n",
    "                                target_size=img_target_size,\n",
    "                                batch_size=data_batch_size, \n",
    "                                shuffle=True)\n",
    "\n",
    "val = gen.flow_from_directory(\"../tfl_data/val\",\n",
    "                              target_size=img_target_size,\n",
    "                              batch_size=data_batch_size, shuffle=False)\n",
    "\n",
    "test = gen.flow_from_directory(\"../tfl_data/test\", \n",
    "                               target_size=img_target_size, \n",
    "                               class_mode=None, shuffle=False)"
   ]
  },
  {
   "cell_type": "code",
   "execution_count": 11,
   "metadata": {},
   "outputs": [
    {
     "name": "stderr",
     "output_type": "stream",
     "text": [
      "Copying files: 58500 files [01:22, 712.09 files/s]\n"
     ]
    }
   ],
   "source": [
    "#get a fraction of training data for checking which model trains and fits the best\n",
    "#split dataset into train, val, test\n",
    "import splitfolders\n",
    "splitfolders.ratio(\"./data/train/\", output=\"./pt_data/\",\n",
    "    seed=42, ratio=(0.1,0.05,0.85), group_prefix=None, move=False)"
   ]
  },
  {
   "cell_type": "code",
   "execution_count": 12,
   "metadata": {},
   "outputs": [
    {
     "name": "stdout",
     "output_type": "stream",
     "text": [
      "Found 5850 images belonging to 26 classes.\n",
      "Found 2912 images belonging to 26 classes.\n"
     ]
    }
   ],
   "source": [
    "pt_train = gen_aug.flow_from_directory(\"./pt_data/train\",\n",
    "                                target_size=img_target_size,\n",
    "                                batch_size=data_batch_size, \n",
    "                                shuffle=True)\n",
    "\n",
    "pt_val = gen.flow_from_directory(\"./pt_data/val\",\n",
    "                              target_size=img_target_size,\n",
    "                              batch_size=data_batch_size, shuffle=False)"
   ]
  },
  {
   "cell_type": "code",
   "execution_count": 19,
   "metadata": {},
   "outputs": [],
   "source": [
    "models = {\n",
    "    \"InceptionResNetV2\": {\"model\":tf.keras.applications.InceptionResNetV2, \"perf\":0},\n",
    "    \"InceptionV3\": {\"model\":tf.keras.applications.InceptionV3, \"perf\":0},\n",
    "    \"ResNet101\": {\"model\":tf.keras.applications.ResNet101, \"perf\":0},\n",
    "    \"ResNet101V2\": {\"model\":tf.keras.applications.ResNet101V2, \"perf\":0},\n",
    "    \"ResNet152\": {\"model\":tf.keras.applications.ResNet152, \"perf\":0},\n",
    "    \"ResNet152V2\": {\"model\":tf.keras.applications.ResNet152V2, \"perf\":0},\n",
    "    \"ResNet50\": {\"model\":tf.keras.applications.ResNet50, \"perf\":0},\n",
    "    \"ResNet50V2\": {\"model\":tf.keras.applications.ResNet50V2, \"perf\":0},\n",
    "    \"VGG16\": {\"model\":tf.keras.applications.VGG16, \"perf\":0},\n",
    "    \"VGG19\": {\"model\":tf.keras.applications.VGG19, \"perf\":0},\n",
    "    \"Xception\": {\"model\":tf.keras.applications.Xception, \"perf\":0}\n",
    "}"
   ]
  },
  {
   "cell_type": "code",
   "execution_count": 45,
   "metadata": {},
   "outputs": [],
   "source": [
    "best_model = keras.models.load_model(\"./results/best_model/saved_best_model\")\n",
    "best_model_weights = best_model.weights"
   ]
  },
  {
   "cell_type": "code",
   "execution_count": 58,
   "metadata": {},
   "outputs": [],
   "source": [
    "def get_model(model):\n",
    "# Load the pretained model\n",
    "    kwargs =    {'input_shape':(64, 64, 3),\n",
    "                'include_top':False,\n",
    "                 'weights': best_model_weights,\n",
    "                'pooling':'max'}\n",
    "    \n",
    "    model = model(**kwargs)\n",
    "    model.trainable = False\n",
    "    \n",
    "    inputs = model.input\n",
    "\n",
    "    x = Dense(128, activation='elu')(model.output)\n",
    "    x = Dense(128, activation='elu')(x)\n",
    "\n",
    "    outputs = Dense(26, activation='softmax')(x)\n",
    "\n",
    "    new_model = Model(inputs=inputs, outputs=outputs)\n",
    "\n",
    "    new_model.compile(\n",
    "        optimizer='adam',\n",
    "        loss='categorical_crossentropy',\n",
    "        metrics=['accuracy']\n",
    "    )\n",
    "    \n",
    "    return new_model"
   ]
  },
  {
   "cell_type": "code",
   "execution_count": 20,
   "metadata": {},
   "outputs": [],
   "source": [
    "# def get_model(model):\n",
    "# # Load the pretained model\n",
    "#     kwargs =    {'input_shape':(128, 128, 3),\n",
    "#                 'include_top':False,\n",
    "#                  'weights':'imagenet',\n",
    "#                 'pooling':'max'}\n",
    "    \n",
    "#     pretrained_model = model(**kwargs)\n",
    "#     pretrained_model.trainable = False\n",
    "    \n",
    "#     inputs = pretrained_model.input\n",
    "\n",
    "#     x = Dense(128, activation='relu')(pretrained_model.output)\n",
    "#     x = Dense(128, activation='relu')(x)\n",
    "\n",
    "#     outputs = Dense(26, activation='softmax')(x)\n",
    "\n",
    "#     model = Model(inputs=inputs, outputs=outputs)\n",
    "\n",
    "#     model.compile(\n",
    "#         optimizer='adam',\n",
    "#         loss='categorical_crossentropy',\n",
    "#         metrics=['accuracy']\n",
    "#     )\n",
    "    \n",
    "#     return model"
   ]
  },
  {
   "cell_type": "code",
   "execution_count": 59,
   "metadata": {},
   "outputs": [
    {
     "ename": "ValueError",
     "evalue": "The first argument to `Layer.call` must always be passed.",
     "output_type": "error",
     "traceback": [
      "\u001b[1;31m---------------------------------------------------------------------------\u001b[0m",
      "\u001b[1;31mValueError\u001b[0m                                Traceback (most recent call last)",
      "\u001b[1;32mc:\\Users\\svenm\\Documents\\Sakshi\\ASLRecognition\\project\\pretrained.ipynb Cell 14'\u001b[0m in \u001b[0;36m<cell line: 4>\u001b[1;34m()\u001b[0m\n\u001b[0;32m      <a href='vscode-notebook-cell:/c%3A/Users/svenm/Documents/Sakshi/ASLRecognition/project/pretrained.ipynb#ch0000009?line=0'>1</a>\u001b[0m \u001b[39m# Fit the models\u001b[39;00m\n\u001b[0;32m      <a href='vscode-notebook-cell:/c%3A/Users/svenm/Documents/Sakshi/ASLRecognition/project/pretrained.ipynb#ch0000009?line=1'>2</a>\u001b[0m     \n\u001b[0;32m      <a href='vscode-notebook-cell:/c%3A/Users/svenm/Documents/Sakshi/ASLRecognition/project/pretrained.ipynb#ch0000009?line=2'>3</a>\u001b[0m     \u001b[39m# Get the model\u001b[39;00m\n\u001b[1;32m----> <a href='vscode-notebook-cell:/c%3A/Users/svenm/Documents/Sakshi/ASLRecognition/project/pretrained.ipynb#ch0000009?line=3'>4</a>\u001b[0m m \u001b[39m=\u001b[39m get_model(best_model)\n\u001b[0;32m      <a href='vscode-notebook-cell:/c%3A/Users/svenm/Documents/Sakshi/ASLRecognition/project/pretrained.ipynb#ch0000009?line=4'>5</a>\u001b[0m start \u001b[39m=\u001b[39m perf_counter()\n\u001b[0;32m      <a href='vscode-notebook-cell:/c%3A/Users/svenm/Documents/Sakshi/ASLRecognition/project/pretrained.ipynb#ch0000009?line=5'>6</a>\u001b[0m     \u001b[39m# Fit the model\u001b[39;00m\n",
      "\u001b[1;32mc:\\Users\\svenm\\Documents\\Sakshi\\ASLRecognition\\project\\pretrained.ipynb Cell 12'\u001b[0m in \u001b[0;36mget_model\u001b[1;34m(model)\u001b[0m\n\u001b[0;32m      <a href='vscode-notebook-cell:/c%3A/Users/svenm/Documents/Sakshi/ASLRecognition/project/pretrained.ipynb#ch0000019?line=0'>1</a>\u001b[0m \u001b[39mdef\u001b[39;00m \u001b[39mget_model\u001b[39m(model):\n\u001b[0;32m      <a href='vscode-notebook-cell:/c%3A/Users/svenm/Documents/Sakshi/ASLRecognition/project/pretrained.ipynb#ch0000019?line=1'>2</a>\u001b[0m \u001b[39m# Load the pretained model\u001b[39;00m\n\u001b[0;32m      <a href='vscode-notebook-cell:/c%3A/Users/svenm/Documents/Sakshi/ASLRecognition/project/pretrained.ipynb#ch0000019?line=2'>3</a>\u001b[0m     kwargs \u001b[39m=\u001b[39m    {\n\u001b[0;32m      <a href='vscode-notebook-cell:/c%3A/Users/svenm/Documents/Sakshi/ASLRecognition/project/pretrained.ipynb#ch0000019?line=3'>4</a>\u001b[0m                 \u001b[39m'\u001b[39m\u001b[39minclude_top\u001b[39m\u001b[39m'\u001b[39m:\u001b[39mFalse\u001b[39;00m,\n\u001b[0;32m      <a href='vscode-notebook-cell:/c%3A/Users/svenm/Documents/Sakshi/ASLRecognition/project/pretrained.ipynb#ch0000019?line=4'>5</a>\u001b[0m                  \u001b[39m'\u001b[39m\u001b[39mweights\u001b[39m\u001b[39m'\u001b[39m: best_model_weights,\n\u001b[0;32m      <a href='vscode-notebook-cell:/c%3A/Users/svenm/Documents/Sakshi/ASLRecognition/project/pretrained.ipynb#ch0000019?line=5'>6</a>\u001b[0m                 \u001b[39m'\u001b[39m\u001b[39mpooling\u001b[39m\u001b[39m'\u001b[39m:\u001b[39m'\u001b[39m\u001b[39mmax\u001b[39m\u001b[39m'\u001b[39m}\n\u001b[1;32m----> <a href='vscode-notebook-cell:/c%3A/Users/svenm/Documents/Sakshi/ASLRecognition/project/pretrained.ipynb#ch0000019?line=7'>8</a>\u001b[0m     model \u001b[39m=\u001b[39m model(\u001b[39m*\u001b[39m\u001b[39m*\u001b[39mkwargs)\n\u001b[0;32m      <a href='vscode-notebook-cell:/c%3A/Users/svenm/Documents/Sakshi/ASLRecognition/project/pretrained.ipynb#ch0000019?line=8'>9</a>\u001b[0m     model\u001b[39m.\u001b[39mtrainable \u001b[39m=\u001b[39m \u001b[39mFalse\u001b[39;00m\n\u001b[0;32m     <a href='vscode-notebook-cell:/c%3A/Users/svenm/Documents/Sakshi/ASLRecognition/project/pretrained.ipynb#ch0000019?line=10'>11</a>\u001b[0m     inputs \u001b[39m=\u001b[39m model\u001b[39m.\u001b[39minput\n",
      "File \u001b[1;32mc:\\Users\\svenm\\miniconda3\\envs\\dl_keras\\lib\\site-packages\\keras\\utils\\traceback_utils.py:67\u001b[0m, in \u001b[0;36mfilter_traceback.<locals>.error_handler\u001b[1;34m(*args, **kwargs)\u001b[0m\n\u001b[0;32m     <a href='file:///c%3A/Users/svenm/miniconda3/envs/dl_keras/lib/site-packages/keras/utils/traceback_utils.py?line=64'>65</a>\u001b[0m \u001b[39mexcept\u001b[39;00m \u001b[39mException\u001b[39;00m \u001b[39mas\u001b[39;00m e:  \u001b[39m# pylint: disable=broad-except\u001b[39;00m\n\u001b[0;32m     <a href='file:///c%3A/Users/svenm/miniconda3/envs/dl_keras/lib/site-packages/keras/utils/traceback_utils.py?line=65'>66</a>\u001b[0m   filtered_tb \u001b[39m=\u001b[39m _process_traceback_frames(e\u001b[39m.\u001b[39m__traceback__)\n\u001b[1;32m---> <a href='file:///c%3A/Users/svenm/miniconda3/envs/dl_keras/lib/site-packages/keras/utils/traceback_utils.py?line=66'>67</a>\u001b[0m   \u001b[39mraise\u001b[39;00m e\u001b[39m.\u001b[39mwith_traceback(filtered_tb) \u001b[39mfrom\u001b[39;00m \u001b[39mNone\u001b[39m\n\u001b[0;32m     <a href='file:///c%3A/Users/svenm/miniconda3/envs/dl_keras/lib/site-packages/keras/utils/traceback_utils.py?line=67'>68</a>\u001b[0m \u001b[39mfinally\u001b[39;00m:\n\u001b[0;32m     <a href='file:///c%3A/Users/svenm/miniconda3/envs/dl_keras/lib/site-packages/keras/utils/traceback_utils.py?line=68'>69</a>\u001b[0m   \u001b[39mdel\u001b[39;00m filtered_tb\n",
      "File \u001b[1;32mc:\\Users\\svenm\\miniconda3\\envs\\dl_keras\\lib\\site-packages\\keras\\engine\\base_layer.py:3100\u001b[0m, in \u001b[0;36mLayer._split_out_first_arg\u001b[1;34m(self, args, kwargs)\u001b[0m\n\u001b[0;32m   <a href='file:///c%3A/Users/svenm/miniconda3/envs/dl_keras/lib/site-packages/keras/engine/base_layer.py?line=3097'>3098</a>\u001b[0m   inputs \u001b[39m=\u001b[39m kwargs\u001b[39m.\u001b[39mpop(\u001b[39mself\u001b[39m\u001b[39m.\u001b[39m_call_fn_args[\u001b[39m0\u001b[39m])\n\u001b[0;32m   <a href='file:///c%3A/Users/svenm/miniconda3/envs/dl_keras/lib/site-packages/keras/engine/base_layer.py?line=3098'>3099</a>\u001b[0m \u001b[39melse\u001b[39;00m:\n\u001b[1;32m-> <a href='file:///c%3A/Users/svenm/miniconda3/envs/dl_keras/lib/site-packages/keras/engine/base_layer.py?line=3099'>3100</a>\u001b[0m   \u001b[39mraise\u001b[39;00m \u001b[39mValueError\u001b[39;00m(\n\u001b[0;32m   <a href='file:///c%3A/Users/svenm/miniconda3/envs/dl_keras/lib/site-packages/keras/engine/base_layer.py?line=3100'>3101</a>\u001b[0m       \u001b[39m'\u001b[39m\u001b[39mThe first argument to `Layer.call` must always be passed.\u001b[39m\u001b[39m'\u001b[39m)\n\u001b[0;32m   <a href='file:///c%3A/Users/svenm/miniconda3/envs/dl_keras/lib/site-packages/keras/engine/base_layer.py?line=3101'>3102</a>\u001b[0m \u001b[39mreturn\u001b[39;00m inputs, args, kwargs\n",
      "\u001b[1;31mValueError\u001b[0m: The first argument to `Layer.call` must always be passed."
     ]
    }
   ],
   "source": [
    "# Fit the models\n",
    "    \n",
    "    # Get the model\n",
    "m = get_model(best_model)\n",
    "start = perf_counter()\n",
    "    # Fit the model\n",
    "history = m.fit(train,validation_data=val,epochs=10,verbose=0)\n",
    "    \n",
    "# Sav the duration and the val_accuracy\n",
    "duration = perf_counter() - start\n",
    "duration = round(duration,2)\n",
    "print(f\"Trained in {duration} sec\")\n",
    "val_acc = history.history['val_accuracy']"
   ]
  },
  {
   "cell_type": "code",
   "execution_count": 30,
   "metadata": {},
   "outputs": [
    {
     "data": {
      "text/html": [
       "<div>\n",
       "<style scoped>\n",
       "    .dataframe tbody tr th:only-of-type {\n",
       "        vertical-align: middle;\n",
       "    }\n",
       "\n",
       "    .dataframe tbody tr th {\n",
       "        vertical-align: top;\n",
       "    }\n",
       "\n",
       "    .dataframe thead th {\n",
       "        text-align: right;\n",
       "    }\n",
       "</style>\n",
       "<table border=\"1\" class=\"dataframe\">\n",
       "  <thead>\n",
       "    <tr style=\"text-align: right;\">\n",
       "      <th></th>\n",
       "      <th>model</th>\n",
       "      <th>val_accuracy</th>\n",
       "      <th>Training time (sec)</th>\n",
       "    </tr>\n",
       "  </thead>\n",
       "  <tbody>\n",
       "    <tr>\n",
       "      <th>0</th>\n",
       "      <td>ResNet50V2</td>\n",
       "      <td>0.8595</td>\n",
       "      <td>105.35</td>\n",
       "    </tr>\n",
       "    <tr>\n",
       "      <th>1</th>\n",
       "      <td>ResNet101V2</td>\n",
       "      <td>0.8372</td>\n",
       "      <td>128.45</td>\n",
       "    </tr>\n",
       "    <tr>\n",
       "      <th>2</th>\n",
       "      <td>ResNet152V2</td>\n",
       "      <td>0.8170</td>\n",
       "      <td>146.02</td>\n",
       "    </tr>\n",
       "    <tr>\n",
       "      <th>3</th>\n",
       "      <td>VGG16</td>\n",
       "      <td>0.7998</td>\n",
       "      <td>113.19</td>\n",
       "    </tr>\n",
       "    <tr>\n",
       "      <th>4</th>\n",
       "      <td>Xception</td>\n",
       "      <td>0.7672</td>\n",
       "      <td>123.33</td>\n",
       "    </tr>\n",
       "    <tr>\n",
       "      <th>5</th>\n",
       "      <td>InceptionResNetV2</td>\n",
       "      <td>0.7064</td>\n",
       "      <td>165.10</td>\n",
       "    </tr>\n",
       "    <tr>\n",
       "      <th>6</th>\n",
       "      <td>InceptionV3</td>\n",
       "      <td>0.6861</td>\n",
       "      <td>110.20</td>\n",
       "    </tr>\n",
       "    <tr>\n",
       "      <th>7</th>\n",
       "      <td>VGG19</td>\n",
       "      <td>0.5968</td>\n",
       "      <td>118.80</td>\n",
       "    </tr>\n",
       "    <tr>\n",
       "      <th>8</th>\n",
       "      <td>ResNet101</td>\n",
       "      <td>0.2586</td>\n",
       "      <td>131.35</td>\n",
       "    </tr>\n",
       "    <tr>\n",
       "      <th>9</th>\n",
       "      <td>ResNet152</td>\n",
       "      <td>0.2517</td>\n",
       "      <td>148.34</td>\n",
       "    </tr>\n",
       "    <tr>\n",
       "      <th>10</th>\n",
       "      <td>ResNet50</td>\n",
       "      <td>0.2376</td>\n",
       "      <td>109.30</td>\n",
       "    </tr>\n",
       "  </tbody>\n",
       "</table>\n",
       "</div>"
      ],
      "text/plain": [
       "                model  val_accuracy  Training time (sec)\n",
       "0          ResNet50V2        0.8595               105.35\n",
       "1         ResNet101V2        0.8372               128.45\n",
       "2         ResNet152V2        0.8170               146.02\n",
       "3               VGG16        0.7998               113.19\n",
       "4            Xception        0.7672               123.33\n",
       "5   InceptionResNetV2        0.7064               165.10\n",
       "6         InceptionV3        0.6861               110.20\n",
       "7               VGG19        0.5968               118.80\n",
       "8           ResNet101        0.2586               131.35\n",
       "9           ResNet152        0.2517               148.34\n",
       "10           ResNet50        0.2376               109.30"
      ]
     },
     "execution_count": 30,
     "metadata": {},
     "output_type": "execute_result"
    }
   ],
   "source": [
    "models_result = []\n",
    "\n",
    "for name, v in models.items():\n",
    "    models_result.append([ name, models[name]['val_acc'][4],models[name]['perf']])\n",
    "    \n",
    "df_results = pd.DataFrame(models_result, \n",
    "                          columns = ['model','val_accuracy','Training time (sec)'])\n",
    "df_results.sort_values(by='val_accuracy', ascending=False, inplace=True)\n",
    "df_results.reset_index(inplace=True,drop=True)\n",
    "df_results"
   ]
  },
  {
   "cell_type": "code",
   "execution_count": 34,
   "metadata": {},
   "outputs": [
    {
     "data": {
      "image/png": "[encoded data removed]",
      "text/plain": [
       "<Figure size 1080x360 with 1 Axes>"
      ]
     },
     "metadata": {
      "needs_background": "light"
     },
     "output_type": "display_data"
    }
   ],
   "source": [
    "plt.figure(figsize = (15,5))\n",
    "sns.barplot(x = 'model', y = 'val_accuracy', data = df_results)\n",
    "plt.title('Accuracy on the test set (after 5 epochs))', fontsize = 15)\n",
    "plt.ylim(0,1)\n",
    "plt.xticks(rotation=90)"
   ]
  },
  {
   "cell_type": "code",
   "execution_count": 42,
   "metadata": {},
   "outputs": [
    {
     "data": {
      "image/png": "[encoded data removed]",
      "text/plain": [
       "<Figure size 1080x360 with 1 Axes>"
      ]
     },
     "metadata": {
      "needs_background": "light"
     },
     "output_type": "display_data"
    }
   ],
   "source": [
    "plt.figure(figsize = (15,5))\n",
    "sns.barplot(x = 'model', y = 'val_accuracy', data = df_results,color=\"red\")\n",
    "plt.title('Accuracy on the test set (after 5 epochs))', fontsize = 15)\n",
    "plt.ylim(0,1)\n",
    "plt.xticks(rotation=90)\n",
    "plt.show()"
   ]
  },
  {
   "cell_type": "code",
   "execution_count": 69,
   "metadata": {},
   "outputs": [
    {
     "name": "stdout",
     "output_type": "stream",
     "text": [
      "Epoch 1/15\n",
      "915/915 [==============================] - 203s 213ms/step - loss: 0.8663 - accuracy: 0.7287 - val_loss: 0.3557 - val_accuracy: 0.8803\n",
      "Epoch 2/15\n",
      "915/915 [==============================] - 186s 203ms/step - loss: 0.3547 - accuracy: 0.8817 - val_loss: 0.2682 - val_accuracy: 0.9077\n",
      "Epoch 3/15\n",
      "915/915 [==============================] - 196s 214ms/step - loss: 0.2708 - accuracy: 0.9080 - val_loss: 0.2263 - val_accuracy: 0.9215\n",
      "Epoch 4/15\n",
      "915/915 [==============================] - 197s 216ms/step - loss: 0.2336 - accuracy: 0.9225 - val_loss: 0.1744 - val_accuracy: 0.9418\n",
      "Epoch 5/15\n",
      "915/915 [==============================] - 192s 210ms/step - loss: 0.2047 - accuracy: 0.9312 - val_loss: 0.2074 - val_accuracy: 0.9309\n",
      "Epoch 6/15\n",
      "915/915 [==============================] - 182s 199ms/step - loss: 0.1962 - accuracy: 0.9348 - val_loss: 0.2083 - val_accuracy: 0.9336\n",
      "Epoch 7/15\n",
      "915/915 [==============================] - 182s 199ms/step - loss: 0.1767 - accuracy: 0.9410 - val_loss: 0.1465 - val_accuracy: 0.9529\n",
      "Epoch 8/15\n",
      "915/915 [==============================] - 182s 199ms/step - loss: 0.1710 - accuracy: 0.9432 - val_loss: 0.1432 - val_accuracy: 0.9538\n",
      "Epoch 9/15\n",
      "915/915 [==============================] - 186s 203ms/step - loss: 0.1585 - accuracy: 0.9471 - val_loss: 0.1422 - val_accuracy: 0.9538\n",
      "Epoch 10/15\n",
      "915/915 [==============================] - 182s 199ms/step - loss: 0.1523 - accuracy: 0.9499 - val_loss: 0.1436 - val_accuracy: 0.9537\n",
      "Epoch 11/15\n",
      "915/915 [==============================] - 182s 198ms/step - loss: 0.1476 - accuracy: 0.9511 - val_loss: 0.1133 - val_accuracy: 0.9622\n",
      "Epoch 12/15\n",
      "915/915 [==============================] - 183s 200ms/step - loss: 0.1405 - accuracy: 0.9533 - val_loss: 0.1355 - val_accuracy: 0.9573\n",
      "Epoch 13/15\n",
      "915/915 [==============================] - 183s 200ms/step - loss: 0.1355 - accuracy: 0.9554 - val_loss: 0.0925 - val_accuracy: 0.9679\n",
      "Epoch 14/15\n",
      "915/915 [==============================] - 178s 195ms/step - loss: 0.1319 - accuracy: 0.9568 - val_loss: 0.0983 - val_accuracy: 0.9662\n",
      "Epoch 15/15\n",
      "915/915 [==============================] - 180s 197ms/step - loss: 0.1330 - accuracy: 0.9570 - val_loss: 0.1511 - val_accuracy: 0.9552\n"
     ]
    }
   ],
   "source": [
    "#Train data on the best architecture - in this case - ResNet5OV2\n",
    "best_pretrained_model = df_results.iloc[0]\n",
    "\n",
    "# Create a new model\n",
    "pretrained_model = get_model( eval(\"tf.keras.applications.\"+ best_pretrained_model[0]) )\n",
    "\n",
    "clear_session()\n",
    "# Train the model\n",
    "history = pretrained_model.fit(train,\n",
    "                    validation_data=val,\n",
    "                    epochs=15,\n",
    "                    callbacks=[\n",
    "                        tf.keras.callbacks.EarlyStopping(\n",
    "                            monitor='val_loss',\n",
    "                            patience=3,\n",
    "                            restore_best_weights=True)]\n",
    "                    )"
   ]
  },
  {
   "cell_type": "code",
   "execution_count": 70,
   "metadata": {},
   "outputs": [
    {
     "data": {
      "image/png": "[encoded data removed]",
      "text/plain": [
       "<Figure size 720x720 with 2 Axes>"
      ]
     },
     "metadata": {
      "needs_background": "light"
     },
     "output_type": "display_data"
    }
   ],
   "source": [
    "plt.subplot(2,1,1)\n",
    "plt.plot(history.history['accuracy'], label='accuracy')\n",
    "plt.plot(history.history['val_accuracy'], label = 'val_accuracy')\n",
    "plt.xlabel('Epoch')\n",
    "plt.ylabel('Accuracy')\n",
    "plt.ylim([0, 1])\n",
    "plt.legend(loc='lower right')\n",
    "plt.title('Accuracy Curve')\n",
    "\n",
    "plt.subplot(2,1,2)\n",
    "plt.plot(history.history['loss'], label='loss')\n",
    "plt.plot(history.history['val_loss'], label = 'val_loss')\n",
    "plt.xlabel('Epoch')\n",
    "plt.ylabel('Loss')\n",
    "plt.ylim([0, 1])\n",
    "plt.legend(loc='upper right')\n",
    "plt.title('Loss Curve')\n",
    "  \n",
    "plt.rcParams[\"figure.figsize\"] = (10,10)\n",
    "plt.tight_layout()\n",
    "  #plt.rcParams['savefig.orientation'] = 'landscape'\n",
    "  #plt.savefig(fig_path)\n",
    "plt.show()"
   ]
  },
  {
   "cell_type": "code",
   "execution_count": 1,
   "metadata": {},
   "outputs": [
    {
     "ename": "NameError",
     "evalue": "name 'pretrained_model' is not defined",
     "output_type": "error",
     "traceback": [
      "\u001b[1;31m---------------------------------------------------------------------------\u001b[0m",
      "\u001b[1;31mNameError\u001b[0m                                 Traceback (most recent call last)",
      "\u001b[1;32mc:\\Users\\svenm\\Documents\\Sakshi\\ASLRecognition\\project\\pretrained.ipynb Cell 16'\u001b[0m in \u001b[0;36m<cell line: 1>\u001b[1;34m()\u001b[0m\n\u001b[1;32m----> <a href='vscode-notebook-cell:/c%3A/Users/svenm/Documents/Sakshi/ASLRecognition/project/pretrained.ipynb#ch0000015?line=0'>1</a>\u001b[0m pred \u001b[39m=\u001b[39m pretrained_model\u001b[39m.\u001b[39mpredict(test, batch_size\u001b[39m=\u001b[39m(test\u001b[39m.\u001b[39msamples\u001b[39m/\u001b[39m\u001b[39m/\u001b[39mtest\u001b[39m.\u001b[39mbatch_size\u001b[39m+\u001b[39m\u001b[39m1\u001b[39m))\n\u001b[0;32m      <a href='vscode-notebook-cell:/c%3A/Users/svenm/Documents/Sakshi/ASLRecognition/project/pretrained.ipynb#ch0000015?line=1'>2</a>\u001b[0m pred_vals \u001b[39m=\u001b[39m np\u001b[39m.\u001b[39margmax(pred, axis\u001b[39m=\u001b[39m\u001b[39m1\u001b[39m)\n\u001b[0;32m      <a href='vscode-notebook-cell:/c%3A/Users/svenm/Documents/Sakshi/ASLRecognition/project/pretrained.ipynb#ch0000015?line=2'>3</a>\u001b[0m score \u001b[39m=\u001b[39m accuracy_score(test\u001b[39m.\u001b[39mclasses,pred_vals)\n",
      "\u001b[1;31mNameError\u001b[0m: name 'pretrained_model' is not defined"
     ]
    }
   ],
   "source": [
    "pred = pretrained_model.predict(test, batch_size=(test.samples//test.batch_size+1))\n",
    "pred_vals = np.argmax(pred, axis=1)\n",
    "score = accuracy_score(test.classes,pred_vals)\n",
    "print(score)"
   ]
  }
 ],
 "metadata": {
  "interpreter": {
   "hash": "01b23b1b50af16e23cb2be3e290c408bfda52a4061f35c35206a57bf1fb1b008"
  },
  "kernelspec": {
   "display_name": "Python 3.9.12 ('dl_keras')",
   "language": "python",
   "name": "python3"
  },
  "language_info": {
   "codemirror_mode": {
    "name": "ipython",
    "version": 3
   },
   "file_extension": ".py",
   "mimetype": "text/x-python",
   "name": "python",
   "nbconvert_exporter": "python",
   "pygments_lexer": "ipython3",
   "version": "3.9.12"
  },
  "orig_nbformat": 4
 },
 "nbformat": 4,
 "nbformat_minor": 2
}
