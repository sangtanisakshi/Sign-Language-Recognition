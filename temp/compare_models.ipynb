{
 "cells": [
  {
   "cell_type": "code",
   "execution_count": 1,
   "metadata": {},
   "outputs": [],
   "source": [
    "import numpy as np\n",
    "import pandas as pd\n",
    "import tensorflow as tf\n",
    "import matplotlib.pyplot as plt\n",
    "import sklearn\n",
    "import os\n",
    "from tensorflow import keras\n",
    "from keras import optimizers\n",
    "from keras import Sequential\n",
    "from keras import layers\n",
    "from keras import utils, callbacks\n",
    "from keras.models import Model\n",
    "from keras.layers import Flatten, Dense, Dropout, BatchNormalization, Conv2D, Input, MaxPool2D, Permute, GlobalAveragePooling2D, MaxPooling2D\n",
    "from keras.losses import CategoricalCrossentropy\n",
    "from keras.optimizers import Adam\n",
    "from keras.backend import clear_session\n",
    "from keras.preprocessing.image import ImageDataGenerator\n",
    "from keras.metrics import SparseCategoricalCrossentropy\n",
    "from sklearn.metrics import confusion_matrix, classification_report, ConfusionMatrixDisplay, accuracy_score"
   ]
  },
  {
   "cell_type": "code",
   "execution_count": 11,
   "metadata": {},
   "outputs": [
    {
     "name": "stdout",
     "output_type": "stream",
     "text": [
      "Model: \"model_1\"\n",
      "_________________________________________________________________\n",
      " Layer (type)                Output Shape              Param #   \n",
      "=================================================================\n",
      " conv2d (Conv2D)             (None, None, None, 64)    4864      \n",
      "                                                                 \n",
      " max_pooling2d (MaxPooling2D  (None, None, None, 64)   0         \n",
      " )                                                               \n",
      "                                                                 \n",
      " batch_normalization (BatchN  (None, None, None, 64)   256       \n",
      " ormalization)                                                   \n",
      "                                                                 \n",
      " dropout (Dropout)           (None, None, None, 64)    0         \n",
      "                                                                 \n",
      " conv2d_1 (Conv2D)           (None, None, None, 128)   204928    \n",
      "                                                                 \n",
      " max_pooling2d_1 (MaxPooling  (None, None, None, 128)  0         \n",
      " 2D)                                                             \n",
      "                                                                 \n",
      " batch_normalization_1 (Batc  (None, None, None, 128)  512       \n",
      " hNormalization)                                                 \n",
      "                                                                 \n",
      " dropout_1 (Dropout)         (None, None, None, 128)   0         \n",
      "                                                                 \n",
      " conv2d_2 (Conv2D)           (None, None, None, 128)   409728    \n",
      "                                                                 \n",
      " max_pooling2d_2 (MaxPooling  (None, None, None, 128)  0         \n",
      " 2D)                                                             \n",
      "                                                                 \n",
      " batch_normalization_2 (Batc  (None, None, None, 128)  512       \n",
      " hNormalization)                                                 \n",
      "                                                                 \n",
      " dropout_2 (Dropout)         (None, None, None, 128)   0         \n",
      "                                                                 \n",
      " conv2d_3 (Conv2D)           (None, None, None, 128)   409728    \n",
      "                                                                 \n",
      " max_pooling2d_3 (MaxPooling  (None, None, None, 128)  0         \n",
      " 2D)                                                             \n",
      "                                                                 \n",
      " batch_normalization_3 (Batc  (None, None, None, 128)  512       \n",
      " hNormalization)                                                 \n",
      "                                                                 \n",
      " dropout_3 (Dropout)         (None, None, None, 128)   0         \n",
      "                                                                 \n",
      " flatten (Flatten)           (None, None)              0         \n",
      "                                                                 \n",
      " dense (Dense)               (None, 26)                53274     \n",
      "                                                                 \n",
      "=================================================================\n",
      "Total params: 1,084,314\n",
      "Trainable params: 1,083,418\n",
      "Non-trainable params: 896\n",
      "_________________________________________________________________\n"
     ]
    }
   ],
   "source": [
    "best_model = keras.models.load_model(\"./project/results/best_model/best_model\")\n",
    "best_model.summary()"
   ]
  },
  {
   "cell_type": "code",
   "execution_count": 12,
   "metadata": {},
   "outputs": [],
   "source": [
    "for i in range(8):\n",
    "    best_model.layers[i].trainable = False"
   ]
  },
  {
   "cell_type": "code",
   "execution_count": 13,
   "metadata": {},
   "outputs": [
    {
     "name": "stdout",
     "output_type": "stream",
     "text": [
      "Model: \"model_1\"\n",
      "_________________________________________________________________\n",
      " Layer (type)                Output Shape              Param #   \n",
      "=================================================================\n",
      " conv2d (Conv2D)             (None, None, None, 64)    4864      \n",
      "                                                                 \n",
      " max_pooling2d (MaxPooling2D  (None, None, None, 64)   0         \n",
      " )                                                               \n",
      "                                                                 \n",
      " batch_normalization (BatchN  (None, None, None, 64)   256       \n",
      " ormalization)                                                   \n",
      "                                                                 \n",
      " dropout (Dropout)           (None, None, None, 64)    0         \n",
      "                                                                 \n",
      " conv2d_1 (Conv2D)           (None, None, None, 128)   204928    \n",
      "                                                                 \n",
      " max_pooling2d_1 (MaxPooling  (None, None, None, 128)  0         \n",
      " 2D)                                                             \n",
      "                                                                 \n",
      " batch_normalization_1 (Batc  (None, None, None, 128)  512       \n",
      " hNormalization)                                                 \n",
      "                                                                 \n",
      " dropout_1 (Dropout)         (None, None, None, 128)   0         \n",
      "                                                                 \n",
      " conv2d_2 (Conv2D)           (None, None, None, 128)   409728    \n",
      "                                                                 \n",
      " max_pooling2d_2 (MaxPooling  (None, None, None, 128)  0         \n",
      " 2D)                                                             \n",
      "                                                                 \n",
      " batch_normalization_2 (Batc  (None, None, None, 128)  512       \n",
      " hNormalization)                                                 \n",
      "                                                                 \n",
      " dropout_2 (Dropout)         (None, None, None, 128)   0         \n",
      "                                                                 \n",
      " conv2d_3 (Conv2D)           (None, None, None, 128)   409728    \n",
      "                                                                 \n",
      " max_pooling2d_3 (MaxPooling  (None, None, None, 128)  0         \n",
      " 2D)                                                             \n",
      "                                                                 \n",
      " batch_normalization_3 (Batc  (None, None, None, 128)  512       \n",
      " hNormalization)                                                 \n",
      "                                                                 \n",
      " dropout_3 (Dropout)         (None, None, None, 128)   0         \n",
      "                                                                 \n",
      " flatten (Flatten)           (None, None)              0         \n",
      "                                                                 \n",
      " dense (Dense)               (None, 26)                53274     \n",
      "                                                                 \n",
      "=================================================================\n",
      "Total params: 1,084,314\n",
      "Trainable params: 873,498\n",
      "Non-trainable params: 210,816\n",
      "_________________________________________________________________\n"
     ]
    }
   ],
   "source": [
    "best_model.summary()"
   ]
  }
 ],
 "metadata": {
  "interpreter": {
   "hash": "01b23b1b50af16e23cb2be3e290c408bfda52a4061f35c35206a57bf1fb1b008"
  },
  "kernelspec": {
   "display_name": "Python 3.9.12 ('dl_keras')",
   "language": "python",
   "name": "python3"
  },
  "language_info": {
   "codemirror_mode": {
    "name": "ipython",
    "version": 3
   },
   "file_extension": ".py",
   "mimetype": "text/x-python",
   "name": "python",
   "nbconvert_exporter": "python",
   "pygments_lexer": "ipython3",
   "version": "3.9.12"
  },
  "orig_nbformat": 4
 },
 "nbformat": 4,
 "nbformat_minor": 2
}
